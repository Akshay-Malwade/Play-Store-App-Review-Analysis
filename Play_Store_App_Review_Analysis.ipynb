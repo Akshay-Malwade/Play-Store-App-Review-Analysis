{
  "nbformat": 4,
  "nbformat_minor": 0,
  "metadata": {
    "kernelspec": {
      "display_name": "Python 3",
      "language": "python",
      "name": "python3"
    },
    "language_info": {
      "codemirror_mode": {
        "name": "ipython",
        "version": 3
      },
      "file_extension": ".py",
      "mimetype": "text/x-python",
      "name": "python",
      "nbconvert_exporter": "python",
      "pygments_lexer": "ipython3",
      "version": "3.6.6"
    },
    "colab": {
      "name": "Play Store App Review Analysis.ipynb",
      "provenance": [],
      "collapsed_sections": [],
      "include_colab_link": true
    }
  },
  "cells": [
    {
      "cell_type": "markdown",
      "metadata": {
        "id": "view-in-github",
        "colab_type": "text"
      },
      "source": [
        "<a href=\"https://colab.research.google.com/github/Akshay-Malwade/Play-Store-App-Review-Analysis/blob/main/Play_Store_App_Review_Analysis.ipynb\" target=\"_parent\"><img src=\"https://colab.research.google.com/assets/colab-badge.svg\" alt=\"Open In Colab\"/></a>"
      ]
    },
    {
      "cell_type": "markdown",
      "metadata": {
        "id": "Y06xIdG26kRF"
      },
      "source": [
        "## <b> The Play Store apps data has enormous potential to drive app-making businesses to success. Actionable insights can be drawn for developers to work on and capture the Android market. </b>\n",
        "\n",
        "## <b> Each app (row) has values for catergory, rating, size, and more. Another dataset contains customer reviews of the android apps.</b>\n",
        "\n",
        "## <b> Explore and analyze the data to discover key factors responsible for app engagement and success. </b>"
      ]
    },
    {
      "cell_type": "markdown",
      "source": [
        "![68747470733a2f2f6173736574732e6461746163616d702e636f6d2f70726f64756374696f6e2f70726f6a6563745f3631392f696d672f676f6f676c655f706c61795f73746f72652e706e67.webp](data:image/webp;base64,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)"
      ],
      "metadata": {
        "id": "lA0cRlYJbMms"
      }
    },
    {
      "cell_type": "markdown",
      "source": [
        "### **INTRODUCTION TO DATA**"
      ],
      "metadata": {
        "id": "ZCRgTM_fbtY2"
      }
    },
    {
      "cell_type": "markdown",
      "source": [
        "Firstly let's get to know data. Initially to have lookup over the data we need pandas library."
      ],
      "metadata": {
        "id": "Gqa80BTPb7Qd"
      }
    },
    {
      "cell_type": "code",
      "metadata": {
        "id": "dByMsuzT8Tnw"
      },
      "source": [
        "#Importing necesssary libraries\n",
        "import pandas as pd # data processing, CSV file I/O (e.g. pd.read_csv)\n",
        "import numpy as np # linear algebra\n",
        "import matplotlib.pyplot as plt\n",
        "import seaborn as sns  # visualization tool\n",
        "# word cloud library\n",
        "from wordcloud import WordCloud"
      ],
      "execution_count": 48,
      "outputs": []
    },
    {
      "cell_type": "code",
      "source": [
        "# Mount drive with google colab notebook\n",
        "from google.colab import drive\n",
        "drive.mount('/content/drive')"
      ],
      "metadata": {
        "id": "4JWtpD2JZDg1",
        "colab": {
          "base_uri": "https://localhost:8080/"
        },
        "outputId": "88c81ae4-6c0d-4ec6-931b-c65c76777e0b"
      },
      "execution_count": 49,
      "outputs": [
        {
          "output_type": "stream",
          "name": "stdout",
          "text": [
            "Drive already mounted at /content/drive; to attempt to forcibly remount, call drive.mount(\"/content/drive\", force_remount=True).\n"
          ]
        }
      ]
    },
    {
      "cell_type": "markdown",
      "source": [
        "###**1. Loading the Playstore Dataset**"
      ],
      "metadata": {
        "id": "rWElpmVEwLX7"
      }
    },
    {
      "cell_type": "code",
      "source": [
        "data = pd.read_csv('/content/drive/MyDrive/EDA Capstone -1/Play Store Data.csv') # loaded data into pandas dataframe."
      ],
      "metadata": {
        "id": "UjRCn-k2v3h9"
      },
      "execution_count": 50,
      "outputs": []
    },
    {
      "cell_type": "code",
      "source": [
        "data.info() # This shows the datatype of each feature and also we get to know if any missing values are present in each column."
      ],
      "metadata": {
        "colab": {
          "base_uri": "https://localhost:8080/"
        },
        "id": "H2CiGYg1dCU4",
        "outputId": "031f9efe-1f16-4db6-9250-754d40f0cd64"
      },
      "execution_count": 51,
      "outputs": [
        {
          "output_type": "stream",
          "name": "stdout",
          "text": [
            "<class 'pandas.core.frame.DataFrame'>\n",
            "RangeIndex: 10841 entries, 0 to 10840\n",
            "Data columns (total 13 columns):\n",
            " #   Column          Non-Null Count  Dtype  \n",
            "---  ------          --------------  -----  \n",
            " 0   App             10841 non-null  object \n",
            " 1   Category        10841 non-null  object \n",
            " 2   Rating          9367 non-null   float64\n",
            " 3   Reviews         10841 non-null  object \n",
            " 4   Size            10841 non-null  object \n",
            " 5   Installs        10841 non-null  object \n",
            " 6   Type            10840 non-null  object \n",
            " 7   Price           10841 non-null  object \n",
            " 8   Content Rating  10840 non-null  object \n",
            " 9   Genres          10841 non-null  object \n",
            " 10  Last Updated    10841 non-null  object \n",
            " 11  Current Ver     10833 non-null  object \n",
            " 12  Android Ver     10838 non-null  object \n",
            "dtypes: float64(1), object(12)\n",
            "memory usage: 1.1+ MB\n"
          ]
        }
      ]
    },
    {
      "cell_type": "code",
      "source": [
        "data.columns=[str(x).lower().replace(\" \",\"_\") for x in data.columns] # this will convert all feature names to lowercase."
      ],
      "metadata": {
        "id": "HbyMBwkjw9p_"
      },
      "execution_count": 52,
      "outputs": []
    },
    {
      "cell_type": "code",
      "source": [
        "data.columns # Displays all the columns from dataset."
      ],
      "metadata": {
        "colab": {
          "base_uri": "https://localhost:8080/"
        },
        "id": "zepRamLqdFyI",
        "outputId": "453e0679-b92c-4132-8c19-82e227b48e31"
      },
      "execution_count": 53,
      "outputs": [
        {
          "output_type": "execute_result",
          "data": {
            "text/plain": [
              "Index(['app', 'category', 'rating', 'reviews', 'size', 'installs', 'type',\n",
              "       'price', 'content_rating', 'genres', 'last_updated', 'current_ver',\n",
              "       'android_ver'],\n",
              "      dtype='object')"
            ]
          },
          "metadata": {},
          "execution_count": 53
        }
      ]
    },
    {
      "cell_type": "code",
      "source": [
        "data.shape # displays the total no of rows and columns present in dataset."
      ],
      "metadata": {
        "colab": {
          "base_uri": "https://localhost:8080/"
        },
        "id": "D0JGuRrhdOsu",
        "outputId": "7119969b-f377-4735-8221-6b11fdb0b068"
      },
      "execution_count": 54,
      "outputs": [
        {
          "output_type": "execute_result",
          "data": {
            "text/plain": [
              "(10841, 13)"
            ]
          },
          "metadata": {},
          "execution_count": 54
        }
      ]
    },
    {
      "cell_type": "code",
      "source": [
        "type(data) # type of the variable named data"
      ],
      "metadata": {
        "colab": {
          "base_uri": "https://localhost:8080/"
        },
        "id": "-GwWVoughuPZ",
        "outputId": "5569cb95-8c26-4c07-e559-d3fd595f81b9"
      },
      "execution_count": 55,
      "outputs": [
        {
          "output_type": "execute_result",
          "data": {
            "text/plain": [
              "pandas.core.frame.DataFrame"
            ]
          },
          "metadata": {},
          "execution_count": 55
        }
      ]
    },
    {
      "cell_type": "code",
      "source": [
        "data.head() #displays the first five instances."
      ],
      "metadata": {
        "colab": {
          "base_uri": "https://localhost:8080/",
          "height": 389
        },
        "id": "ADuQLP8qdSNg",
        "outputId": "c0895898-232a-4848-b76f-7a9500b1eeef"
      },
      "execution_count": 56,
      "outputs": [
        {
          "output_type": "execute_result",
          "data": {
            "text/html": [
              "\n",
              "  <div id=\"df-3c3b89d3-672b-4b34-a2d0-5ff595425882\">\n",
              "    <div class=\"colab-df-container\">\n",
              "      <div>\n",
              "<style scoped>\n",
              "    .dataframe tbody tr th:only-of-type {\n",
              "        vertical-align: middle;\n",
              "    }\n",
              "\n",
              "    .dataframe tbody tr th {\n",
              "        vertical-align: top;\n",
              "    }\n",
              "\n",
              "    .dataframe thead th {\n",
              "        text-align: right;\n",
              "    }\n",
              "</style>\n",
              "<table border=\"1\" class=\"dataframe\">\n",
              "  <thead>\n",
              "    <tr style=\"text-align: right;\">\n",
              "      <th></th>\n",
              "      <th>app</th>\n",
              "      <th>category</th>\n",
              "      <th>rating</th>\n",
              "      <th>reviews</th>\n",
              "      <th>size</th>\n",
              "      <th>installs</th>\n",
              "      <th>type</th>\n",
              "      <th>price</th>\n",
              "      <th>content_rating</th>\n",
              "      <th>genres</th>\n",
              "      <th>last_updated</th>\n",
              "      <th>current_ver</th>\n",
              "      <th>android_ver</th>\n",
              "    </tr>\n",
              "  </thead>\n",
              "  <tbody>\n",
              "    <tr>\n",
              "      <th>0</th>\n",
              "      <td>Photo Editor &amp; Candy Camera &amp; Grid &amp; ScrapBook</td>\n",
              "      <td>ART_AND_DESIGN</td>\n",
              "      <td>4.1</td>\n",
              "      <td>159</td>\n",
              "      <td>19M</td>\n",
              "      <td>10,000+</td>\n",
              "      <td>Free</td>\n",
              "      <td>0</td>\n",
              "      <td>Everyone</td>\n",
              "      <td>Art &amp; Design</td>\n",
              "      <td>January 7, 2018</td>\n",
              "      <td>1.0.0</td>\n",
              "      <td>4.0.3 and up</td>\n",
              "    </tr>\n",
              "    <tr>\n",
              "      <th>1</th>\n",
              "      <td>Coloring book moana</td>\n",
              "      <td>ART_AND_DESIGN</td>\n",
              "      <td>3.9</td>\n",
              "      <td>967</td>\n",
              "      <td>14M</td>\n",
              "      <td>500,000+</td>\n",
              "      <td>Free</td>\n",
              "      <td>0</td>\n",
              "      <td>Everyone</td>\n",
              "      <td>Art &amp; Design;Pretend Play</td>\n",
              "      <td>January 15, 2018</td>\n",
              "      <td>2.0.0</td>\n",
              "      <td>4.0.3 and up</td>\n",
              "    </tr>\n",
              "    <tr>\n",
              "      <th>2</th>\n",
              "      <td>U Launcher Lite – FREE Live Cool Themes, Hide ...</td>\n",
              "      <td>ART_AND_DESIGN</td>\n",
              "      <td>4.7</td>\n",
              "      <td>87510</td>\n",
              "      <td>8.7M</td>\n",
              "      <td>5,000,000+</td>\n",
              "      <td>Free</td>\n",
              "      <td>0</td>\n",
              "      <td>Everyone</td>\n",
              "      <td>Art &amp; Design</td>\n",
              "      <td>August 1, 2018</td>\n",
              "      <td>1.2.4</td>\n",
              "      <td>4.0.3 and up</td>\n",
              "    </tr>\n",
              "    <tr>\n",
              "      <th>3</th>\n",
              "      <td>Sketch - Draw &amp; Paint</td>\n",
              "      <td>ART_AND_DESIGN</td>\n",
              "      <td>4.5</td>\n",
              "      <td>215644</td>\n",
              "      <td>25M</td>\n",
              "      <td>50,000,000+</td>\n",
              "      <td>Free</td>\n",
              "      <td>0</td>\n",
              "      <td>Teen</td>\n",
              "      <td>Art &amp; Design</td>\n",
              "      <td>June 8, 2018</td>\n",
              "      <td>Varies with device</td>\n",
              "      <td>4.2 and up</td>\n",
              "    </tr>\n",
              "    <tr>\n",
              "      <th>4</th>\n",
              "      <td>Pixel Draw - Number Art Coloring Book</td>\n",
              "      <td>ART_AND_DESIGN</td>\n",
              "      <td>4.3</td>\n",
              "      <td>967</td>\n",
              "      <td>2.8M</td>\n",
              "      <td>100,000+</td>\n",
              "      <td>Free</td>\n",
              "      <td>0</td>\n",
              "      <td>Everyone</td>\n",
              "      <td>Art &amp; Design;Creativity</td>\n",
              "      <td>June 20, 2018</td>\n",
              "      <td>1.1</td>\n",
              "      <td>4.4 and up</td>\n",
              "    </tr>\n",
              "  </tbody>\n",
              "</table>\n",
              "</div>\n",
              "      <button class=\"colab-df-convert\" onclick=\"convertToInteractive('df-3c3b89d3-672b-4b34-a2d0-5ff595425882')\"\n",
              "              title=\"Convert this dataframe to an interactive table.\"\n",
              "              style=\"display:none;\">\n",
              "        \n",
              "  <svg xmlns=\"http://www.w3.org/2000/svg\" height=\"24px\"viewBox=\"0 0 24 24\"\n",
              "       width=\"24px\">\n",
              "    <path d=\"M0 0h24v24H0V0z\" fill=\"none\"/>\n",
              "    <path d=\"M18.56 5.44l.94 2.06.94-2.06 2.06-.94-2.06-.94-.94-2.06-.94 2.06-2.06.94zm-11 1L8.5 8.5l.94-2.06 2.06-.94-2.06-.94L8.5 2.5l-.94 2.06-2.06.94zm10 10l.94 2.06.94-2.06 2.06-.94-2.06-.94-.94-2.06-.94 2.06-2.06.94z\"/><path d=\"M17.41 7.96l-1.37-1.37c-.4-.4-.92-.59-1.43-.59-.52 0-1.04.2-1.43.59L10.3 9.45l-7.72 7.72c-.78.78-.78 2.05 0 2.83L4 21.41c.39.39.9.59 1.41.59.51 0 1.02-.2 1.41-.59l7.78-7.78 2.81-2.81c.8-.78.8-2.07 0-2.86zM5.41 20L4 18.59l7.72-7.72 1.47 1.35L5.41 20z\"/>\n",
              "  </svg>\n",
              "      </button>\n",
              "      \n",
              "  <style>\n",
              "    .colab-df-container {\n",
              "      display:flex;\n",
              "      flex-wrap:wrap;\n",
              "      gap: 12px;\n",
              "    }\n",
              "\n",
              "    .colab-df-convert {\n",
              "      background-color: #E8F0FE;\n",
              "      border: none;\n",
              "      border-radius: 50%;\n",
              "      cursor: pointer;\n",
              "      display: none;\n",
              "      fill: #1967D2;\n",
              "      height: 32px;\n",
              "      padding: 0 0 0 0;\n",
              "      width: 32px;\n",
              "    }\n",
              "\n",
              "    .colab-df-convert:hover {\n",
              "      background-color: #E2EBFA;\n",
              "      box-shadow: 0px 1px 2px rgba(60, 64, 67, 0.3), 0px 1px 3px 1px rgba(60, 64, 67, 0.15);\n",
              "      fill: #174EA6;\n",
              "    }\n",
              "\n",
              "    [theme=dark] .colab-df-convert {\n",
              "      background-color: #3B4455;\n",
              "      fill: #D2E3FC;\n",
              "    }\n",
              "\n",
              "    [theme=dark] .colab-df-convert:hover {\n",
              "      background-color: #434B5C;\n",
              "      box-shadow: 0px 1px 3px 1px rgba(0, 0, 0, 0.15);\n",
              "      filter: drop-shadow(0px 1px 2px rgba(0, 0, 0, 0.3));\n",
              "      fill: #FFFFFF;\n",
              "    }\n",
              "  </style>\n",
              "\n",
              "      <script>\n",
              "        const buttonEl =\n",
              "          document.querySelector('#df-3c3b89d3-672b-4b34-a2d0-5ff595425882 button.colab-df-convert');\n",
              "        buttonEl.style.display =\n",
              "          google.colab.kernel.accessAllowed ? 'block' : 'none';\n",
              "\n",
              "        async function convertToInteractive(key) {\n",
              "          const element = document.querySelector('#df-3c3b89d3-672b-4b34-a2d0-5ff595425882');\n",
              "          const dataTable =\n",
              "            await google.colab.kernel.invokeFunction('convertToInteractive',\n",
              "                                                     [key], {});\n",
              "          if (!dataTable) return;\n",
              "\n",
              "          const docLinkHtml = 'Like what you see? Visit the ' +\n",
              "            '<a target=\"_blank\" href=https://colab.research.google.com/notebooks/data_table.ipynb>data table notebook</a>'\n",
              "            + ' to learn more about interactive tables.';\n",
              "          element.innerHTML = '';\n",
              "          dataTable['output_type'] = 'display_data';\n",
              "          await google.colab.output.renderOutput(dataTable, element);\n",
              "          const docLink = document.createElement('div');\n",
              "          docLink.innerHTML = docLinkHtml;\n",
              "          element.appendChild(docLink);\n",
              "        }\n",
              "      </script>\n",
              "    </div>\n",
              "  </div>\n",
              "  "
            ],
            "text/plain": [
              "                                                 app  ...   android_ver\n",
              "0     Photo Editor & Candy Camera & Grid & ScrapBook  ...  4.0.3 and up\n",
              "1                                Coloring book moana  ...  4.0.3 and up\n",
              "2  U Launcher Lite – FREE Live Cool Themes, Hide ...  ...  4.0.3 and up\n",
              "3                              Sketch - Draw & Paint  ...    4.2 and up\n",
              "4              Pixel Draw - Number Art Coloring Book  ...    4.4 and up\n",
              "\n",
              "[5 rows x 13 columns]"
            ]
          },
          "metadata": {},
          "execution_count": 56
        }
      ]
    },
    {
      "cell_type": "code",
      "source": [
        "data.tail() #displays the last five instances."
      ],
      "metadata": {
        "colab": {
          "base_uri": "https://localhost:8080/",
          "height": 389
        },
        "id": "ikEyT7EwdVTJ",
        "outputId": "46b1a8b3-357e-4e62-9a43-d8ad53ab4a87"
      },
      "execution_count": 57,
      "outputs": [
        {
          "output_type": "execute_result",
          "data": {
            "text/html": [
              "\n",
              "  <div id=\"df-3e88e5d9-fc05-4902-8277-402408c35ad3\">\n",
              "    <div class=\"colab-df-container\">\n",
              "      <div>\n",
              "<style scoped>\n",
              "    .dataframe tbody tr th:only-of-type {\n",
              "        vertical-align: middle;\n",
              "    }\n",
              "\n",
              "    .dataframe tbody tr th {\n",
              "        vertical-align: top;\n",
              "    }\n",
              "\n",
              "    .dataframe thead th {\n",
              "        text-align: right;\n",
              "    }\n",
              "</style>\n",
              "<table border=\"1\" class=\"dataframe\">\n",
              "  <thead>\n",
              "    <tr style=\"text-align: right;\">\n",
              "      <th></th>\n",
              "      <th>app</th>\n",
              "      <th>category</th>\n",
              "      <th>rating</th>\n",
              "      <th>reviews</th>\n",
              "      <th>size</th>\n",
              "      <th>installs</th>\n",
              "      <th>type</th>\n",
              "      <th>price</th>\n",
              "      <th>content_rating</th>\n",
              "      <th>genres</th>\n",
              "      <th>last_updated</th>\n",
              "      <th>current_ver</th>\n",
              "      <th>android_ver</th>\n",
              "    </tr>\n",
              "  </thead>\n",
              "  <tbody>\n",
              "    <tr>\n",
              "      <th>10836</th>\n",
              "      <td>Sya9a Maroc - FR</td>\n",
              "      <td>FAMILY</td>\n",
              "      <td>4.5</td>\n",
              "      <td>38</td>\n",
              "      <td>53M</td>\n",
              "      <td>5,000+</td>\n",
              "      <td>Free</td>\n",
              "      <td>0</td>\n",
              "      <td>Everyone</td>\n",
              "      <td>Education</td>\n",
              "      <td>July 25, 2017</td>\n",
              "      <td>1.48</td>\n",
              "      <td>4.1 and up</td>\n",
              "    </tr>\n",
              "    <tr>\n",
              "      <th>10837</th>\n",
              "      <td>Fr. Mike Schmitz Audio Teachings</td>\n",
              "      <td>FAMILY</td>\n",
              "      <td>5.0</td>\n",
              "      <td>4</td>\n",
              "      <td>3.6M</td>\n",
              "      <td>100+</td>\n",
              "      <td>Free</td>\n",
              "      <td>0</td>\n",
              "      <td>Everyone</td>\n",
              "      <td>Education</td>\n",
              "      <td>July 6, 2018</td>\n",
              "      <td>1.0</td>\n",
              "      <td>4.1 and up</td>\n",
              "    </tr>\n",
              "    <tr>\n",
              "      <th>10838</th>\n",
              "      <td>Parkinson Exercices FR</td>\n",
              "      <td>MEDICAL</td>\n",
              "      <td>NaN</td>\n",
              "      <td>3</td>\n",
              "      <td>9.5M</td>\n",
              "      <td>1,000+</td>\n",
              "      <td>Free</td>\n",
              "      <td>0</td>\n",
              "      <td>Everyone</td>\n",
              "      <td>Medical</td>\n",
              "      <td>January 20, 2017</td>\n",
              "      <td>1.0</td>\n",
              "      <td>2.2 and up</td>\n",
              "    </tr>\n",
              "    <tr>\n",
              "      <th>10839</th>\n",
              "      <td>The SCP Foundation DB fr nn5n</td>\n",
              "      <td>BOOKS_AND_REFERENCE</td>\n",
              "      <td>4.5</td>\n",
              "      <td>114</td>\n",
              "      <td>Varies with device</td>\n",
              "      <td>1,000+</td>\n",
              "      <td>Free</td>\n",
              "      <td>0</td>\n",
              "      <td>Mature 17+</td>\n",
              "      <td>Books &amp; Reference</td>\n",
              "      <td>January 19, 2015</td>\n",
              "      <td>Varies with device</td>\n",
              "      <td>Varies with device</td>\n",
              "    </tr>\n",
              "    <tr>\n",
              "      <th>10840</th>\n",
              "      <td>iHoroscope - 2018 Daily Horoscope &amp; Astrology</td>\n",
              "      <td>LIFESTYLE</td>\n",
              "      <td>4.5</td>\n",
              "      <td>398307</td>\n",
              "      <td>19M</td>\n",
              "      <td>10,000,000+</td>\n",
              "      <td>Free</td>\n",
              "      <td>0</td>\n",
              "      <td>Everyone</td>\n",
              "      <td>Lifestyle</td>\n",
              "      <td>July 25, 2018</td>\n",
              "      <td>Varies with device</td>\n",
              "      <td>Varies with device</td>\n",
              "    </tr>\n",
              "  </tbody>\n",
              "</table>\n",
              "</div>\n",
              "      <button class=\"colab-df-convert\" onclick=\"convertToInteractive('df-3e88e5d9-fc05-4902-8277-402408c35ad3')\"\n",
              "              title=\"Convert this dataframe to an interactive table.\"\n",
              "              style=\"display:none;\">\n",
              "        \n",
              "  <svg xmlns=\"http://www.w3.org/2000/svg\" height=\"24px\"viewBox=\"0 0 24 24\"\n",
              "       width=\"24px\">\n",
              "    <path d=\"M0 0h24v24H0V0z\" fill=\"none\"/>\n",
              "    <path d=\"M18.56 5.44l.94 2.06.94-2.06 2.06-.94-2.06-.94-.94-2.06-.94 2.06-2.06.94zm-11 1L8.5 8.5l.94-2.06 2.06-.94-2.06-.94L8.5 2.5l-.94 2.06-2.06.94zm10 10l.94 2.06.94-2.06 2.06-.94-2.06-.94-.94-2.06-.94 2.06-2.06.94z\"/><path d=\"M17.41 7.96l-1.37-1.37c-.4-.4-.92-.59-1.43-.59-.52 0-1.04.2-1.43.59L10.3 9.45l-7.72 7.72c-.78.78-.78 2.05 0 2.83L4 21.41c.39.39.9.59 1.41.59.51 0 1.02-.2 1.41-.59l7.78-7.78 2.81-2.81c.8-.78.8-2.07 0-2.86zM5.41 20L4 18.59l7.72-7.72 1.47 1.35L5.41 20z\"/>\n",
              "  </svg>\n",
              "      </button>\n",
              "      \n",
              "  <style>\n",
              "    .colab-df-container {\n",
              "      display:flex;\n",
              "      flex-wrap:wrap;\n",
              "      gap: 12px;\n",
              "    }\n",
              "\n",
              "    .colab-df-convert {\n",
              "      background-color: #E8F0FE;\n",
              "      border: none;\n",
              "      border-radius: 50%;\n",
              "      cursor: pointer;\n",
              "      display: none;\n",
              "      fill: #1967D2;\n",
              "      height: 32px;\n",
              "      padding: 0 0 0 0;\n",
              "      width: 32px;\n",
              "    }\n",
              "\n",
              "    .colab-df-convert:hover {\n",
              "      background-color: #E2EBFA;\n",
              "      box-shadow: 0px 1px 2px rgba(60, 64, 67, 0.3), 0px 1px 3px 1px rgba(60, 64, 67, 0.15);\n",
              "      fill: #174EA6;\n",
              "    }\n",
              "\n",
              "    [theme=dark] .colab-df-convert {\n",
              "      background-color: #3B4455;\n",
              "      fill: #D2E3FC;\n",
              "    }\n",
              "\n",
              "    [theme=dark] .colab-df-convert:hover {\n",
              "      background-color: #434B5C;\n",
              "      box-shadow: 0px 1px 3px 1px rgba(0, 0, 0, 0.15);\n",
              "      filter: drop-shadow(0px 1px 2px rgba(0, 0, 0, 0.3));\n",
              "      fill: #FFFFFF;\n",
              "    }\n",
              "  </style>\n",
              "\n",
              "      <script>\n",
              "        const buttonEl =\n",
              "          document.querySelector('#df-3e88e5d9-fc05-4902-8277-402408c35ad3 button.colab-df-convert');\n",
              "        buttonEl.style.display =\n",
              "          google.colab.kernel.accessAllowed ? 'block' : 'none';\n",
              "\n",
              "        async function convertToInteractive(key) {\n",
              "          const element = document.querySelector('#df-3e88e5d9-fc05-4902-8277-402408c35ad3');\n",
              "          const dataTable =\n",
              "            await google.colab.kernel.invokeFunction('convertToInteractive',\n",
              "                                                     [key], {});\n",
              "          if (!dataTable) return;\n",
              "\n",
              "          const docLinkHtml = 'Like what you see? Visit the ' +\n",
              "            '<a target=\"_blank\" href=https://colab.research.google.com/notebooks/data_table.ipynb>data table notebook</a>'\n",
              "            + ' to learn more about interactive tables.';\n",
              "          element.innerHTML = '';\n",
              "          dataTable['output_type'] = 'display_data';\n",
              "          await google.colab.output.renderOutput(dataTable, element);\n",
              "          const docLink = document.createElement('div');\n",
              "          docLink.innerHTML = docLinkHtml;\n",
              "          element.appendChild(docLink);\n",
              "        }\n",
              "      </script>\n",
              "    </div>\n",
              "  </div>\n",
              "  "
            ],
            "text/plain": [
              "                                                 app  ...         android_ver\n",
              "10836                               Sya9a Maroc - FR  ...          4.1 and up\n",
              "10837               Fr. Mike Schmitz Audio Teachings  ...          4.1 and up\n",
              "10838                         Parkinson Exercices FR  ...          2.2 and up\n",
              "10839                  The SCP Foundation DB fr nn5n  ...  Varies with device\n",
              "10840  iHoroscope - 2018 Daily Horoscope & Astrology  ...  Varies with device\n",
              "\n",
              "[5 rows x 13 columns]"
            ]
          },
          "metadata": {},
          "execution_count": 57
        }
      ]
    },
    {
      "cell_type": "code",
      "source": [
        "data.isnull().sum()"
      ],
      "metadata": {
        "id": "d5CwfRA9rMVa",
        "colab": {
          "base_uri": "https://localhost:8080/"
        },
        "outputId": "4c377587-8f4e-4456-e002-bca80dd2d04c"
      },
      "execution_count": 58,
      "outputs": [
        {
          "output_type": "execute_result",
          "data": {
            "text/plain": [
              "app                  0\n",
              "category             0\n",
              "rating            1474\n",
              "reviews              0\n",
              "size                 0\n",
              "installs             0\n",
              "type                 1\n",
              "price                0\n",
              "content_rating       1\n",
              "genres               0\n",
              "last_updated         0\n",
              "current_ver          8\n",
              "android_ver          3\n",
              "dtype: int64"
            ]
          },
          "metadata": {},
          "execution_count": 58
        }
      ]
    },
    {
      "cell_type": "markdown",
      "source": [
        "As we can explicitly see that there are 1474 missing values in rating columns. We have to fill these values with proper calculation. . But the question is how to handle the rating columns because we can not assign those as median, mean, or mode as in real life ratings are given by the customers, We are now using forward linear interpolation to fill nan values inside the rating column."
      ],
      "metadata": {
        "id": "4H6PRMOb3ox1"
      }
    },
    {
      "cell_type": "code",
      "source": [
        "# Missing Value Handling using interpolate forward linear method.\n",
        "data.interpolate(method='linear',limit_direction='forward',inplace=True)"
      ],
      "metadata": {
        "id": "F_8k5g-j3tHh"
      },
      "execution_count": 59,
      "outputs": []
    },
    {
      "cell_type": "code",
      "source": [
        "data.isnull().sum()"
      ],
      "metadata": {
        "colab": {
          "base_uri": "https://localhost:8080/"
        },
        "id": "d13WCG3L3wfW",
        "outputId": "bd1cb37b-cb80-402c-96d3-f6dbadb87b18"
      },
      "execution_count": 60,
      "outputs": [
        {
          "output_type": "execute_result",
          "data": {
            "text/plain": [
              "app               0\n",
              "category          0\n",
              "rating            0\n",
              "reviews           0\n",
              "size              0\n",
              "installs          0\n",
              "type              1\n",
              "price             0\n",
              "content_rating    1\n",
              "genres            0\n",
              "last_updated      0\n",
              "current_ver       8\n",
              "android_ver       3\n",
              "dtype: int64"
            ]
          },
          "metadata": {},
          "execution_count": 60
        }
      ]
    },
    {
      "cell_type": "markdown",
      "source": [
        "As we can see that there is no Nan value present in rating column. But, there are some NaN values present in type, last_updated,current_ver,android_ver column so now we need to deal with these nan values and replace them using appropriate method."
      ],
      "metadata": {
        "id": "McdWs4qC3wb8"
      }
    },
    {
      "cell_type": "code",
      "source": [
        "# Filling NAN with suitable values\n",
        "data['content_rating'].fillna(value='Everyone',inplace=True)\n",
        "data['type'].fillna(value='Free',inplace=True)"
      ],
      "metadata": {
        "id": "K7b6NhUj3wZp"
      },
      "execution_count": 61,
      "outputs": []
    },
    {
      "cell_type": "markdown",
      "source": [
        "### **2. Cleaning Data**\n",
        "Dataset can contain missing data, numerical string value, various cues. Cleaning helps us to make data analysis in easy way.\n",
        "So, Let's explore all columns one by one and check for invalid data and then clean the data accordingly."
      ],
      "metadata": {
        "id": "RP9vcFGPdo_7"
      }
    },
    {
      "cell_type": "code",
      "source": [
        "data.info()"
      ],
      "metadata": {
        "colab": {
          "base_uri": "https://localhost:8080/"
        },
        "id": "_WaLnHCt558o",
        "outputId": "5f1b802d-79d9-47b7-d15e-a91a77c29ee4"
      },
      "execution_count": 62,
      "outputs": [
        {
          "output_type": "stream",
          "name": "stdout",
          "text": [
            "<class 'pandas.core.frame.DataFrame'>\n",
            "RangeIndex: 10841 entries, 0 to 10840\n",
            "Data columns (total 13 columns):\n",
            " #   Column          Non-Null Count  Dtype  \n",
            "---  ------          --------------  -----  \n",
            " 0   app             10841 non-null  object \n",
            " 1   category        10841 non-null  object \n",
            " 2   rating          10841 non-null  float64\n",
            " 3   reviews         10841 non-null  object \n",
            " 4   size            10841 non-null  object \n",
            " 5   installs        10841 non-null  object \n",
            " 6   type            10841 non-null  object \n",
            " 7   price           10841 non-null  object \n",
            " 8   content_rating  10841 non-null  object \n",
            " 9   genres          10841 non-null  object \n",
            " 10  last_updated    10841 non-null  object \n",
            " 11  current_ver     10833 non-null  object \n",
            " 12  android_ver     10838 non-null  object \n",
            "dtypes: float64(1), object(12)\n",
            "memory usage: 1.1+ MB\n"
          ]
        }
      ]
    },
    {
      "cell_type": "markdown",
      "source": [
        "### **APP Column:**\n",
        "Check for duplicate values in App column if any then drop those rows."
      ],
      "metadata": {
        "id": "IXna-GegiKeQ"
      }
    },
    {
      "cell_type": "code",
      "source": [
        "data['app'].value_counts() ## Returns the count of all the unique values for app column.\n"
      ],
      "metadata": {
        "colab": {
          "base_uri": "https://localhost:8080/"
        },
        "id": "pJdFgH09dZhA",
        "outputId": "edbb5e31-530b-4a37-c7a6-5900c5a1abcb"
      },
      "execution_count": 63,
      "outputs": [
        {
          "output_type": "execute_result",
          "data": {
            "text/plain": [
              "ROBLOX                                               9\n",
              "CBS Sports App - Scores, News, Stats & Watch Live    8\n",
              "Duolingo: Learn Languages Free                       7\n",
              "Candy Crush Saga                                     7\n",
              "ESPN                                                 7\n",
              "                                                    ..\n",
              "Cambridge English FC                                 1\n",
              "EF-myHR                                              1\n",
              "BH Patrole                                           1\n",
              "Al jazeera TV                                        1\n",
              "TouchPal Purple Butterfly Theme                      1\n",
              "Name: app, Length: 9660, dtype: int64"
            ]
          },
          "metadata": {},
          "execution_count": 63
        }
      ]
    },
    {
      "cell_type": "code",
      "source": [
        "# remove the duplicate values from the dataframe, specifying the column name in the subset parameter \n",
        "data = data.drop_duplicates(subset=['app'], keep = 'first')"
      ],
      "metadata": {
        "id": "W67xBY5ikWO4"
      },
      "execution_count": 64,
      "outputs": []
    },
    {
      "cell_type": "code",
      "source": [
        "data['app'].value_counts() # for Rechecking."
      ],
      "metadata": {
        "colab": {
          "base_uri": "https://localhost:8080/"
        },
        "id": "0QhkRQfnkesd",
        "outputId": "9a93dd62-8381-4392-90d3-5c24bf496f3c"
      },
      "execution_count": 65,
      "outputs": [
        {
          "output_type": "execute_result",
          "data": {
            "text/plain": [
              "Galaxy Gift                                1\n",
              "Woody Puzzle                               1\n",
              "Profile w/o crop for Telegram              1\n",
              "The TK-App - everything under control      1\n",
              "MailChimp - Email, Marketing Automation    1\n",
              "                                          ..\n",
              "FH Dortmund FB4                            1\n",
              "CX Capture                                 1\n",
              "Kik                                        1\n",
              "Elifba Quran Learning Game                 1\n",
              "TouchPal Purple Butterfly Theme            1\n",
              "Name: app, Length: 9660, dtype: int64"
            ]
          },
          "metadata": {},
          "execution_count": 65
        }
      ]
    },
    {
      "cell_type": "code",
      "source": [
        "# Recheck the shape of the data to validate the updation.\n",
        "data.shape"
      ],
      "metadata": {
        "colab": {
          "base_uri": "https://localhost:8080/"
        },
        "id": "XHEB4FhRmhnO",
        "outputId": "ae442ee5-fb14-4146-9fc4-c26c885dfc5b"
      },
      "execution_count": 66,
      "outputs": [
        {
          "output_type": "execute_result",
          "data": {
            "text/plain": [
              "(9660, 13)"
            ]
          },
          "metadata": {},
          "execution_count": 66
        }
      ]
    },
    {
      "cell_type": "markdown",
      "source": [
        "### **Category Column:**\n",
        "Check for unique categories."
      ],
      "metadata": {
        "id": "Q3tbtqOglRKM"
      }
    },
    {
      "cell_type": "code",
      "source": [
        "data['category'].unique()"
      ],
      "metadata": {
        "colab": {
          "base_uri": "https://localhost:8080/"
        },
        "id": "Fsk5W3OglLJT",
        "outputId": "8fc9b858-f284-46d3-cc46-522ff92f9217"
      },
      "execution_count": 67,
      "outputs": [
        {
          "output_type": "execute_result",
          "data": {
            "text/plain": [
              "array(['ART_AND_DESIGN', 'AUTO_AND_VEHICLES', 'BEAUTY',\n",
              "       'BOOKS_AND_REFERENCE', 'BUSINESS', 'COMICS', 'COMMUNICATION',\n",
              "       'DATING', 'EDUCATION', 'ENTERTAINMENT', 'EVENTS', 'FINANCE',\n",
              "       'FOOD_AND_DRINK', 'HEALTH_AND_FITNESS', 'HOUSE_AND_HOME',\n",
              "       'LIBRARIES_AND_DEMO', 'LIFESTYLE', 'GAME', 'FAMILY', 'MEDICAL',\n",
              "       'SOCIAL', 'SHOPPING', 'PHOTOGRAPHY', 'SPORTS', 'TRAVEL_AND_LOCAL',\n",
              "       'TOOLS', 'PERSONALIZATION', 'PRODUCTIVITY', 'PARENTING', 'WEATHER',\n",
              "       'VIDEO_PLAYERS', 'NEWS_AND_MAGAZINES', 'MAPS_AND_NAVIGATION',\n",
              "       '1.9'], dtype=object)"
            ]
          },
          "metadata": {},
          "execution_count": 67
        }
      ]
    },
    {
      "cell_type": "markdown",
      "source": [
        "As we can see 1.9 is wrong category present in dataset which we is invalid.So, Need to check the observation entry for that category.\n"
      ],
      "metadata": {
        "id": "3-_TfT5klbjA"
      }
    },
    {
      "cell_type": "code",
      "source": [
        "data[data.category == '1.9']"
      ],
      "metadata": {
        "colab": {
          "base_uri": "https://localhost:8080/",
          "height": 142
        },
        "id": "ym6qq4tol66k",
        "outputId": "4c9f3ec6-6e51-49df-8c12-ec8378484352"
      },
      "execution_count": 68,
      "outputs": [
        {
          "output_type": "execute_result",
          "data": {
            "text/html": [
              "\n",
              "  <div id=\"df-d100b59b-4a90-4907-b209-195612655780\">\n",
              "    <div class=\"colab-df-container\">\n",
              "      <div>\n",
              "<style scoped>\n",
              "    .dataframe tbody tr th:only-of-type {\n",
              "        vertical-align: middle;\n",
              "    }\n",
              "\n",
              "    .dataframe tbody tr th {\n",
              "        vertical-align: top;\n",
              "    }\n",
              "\n",
              "    .dataframe thead th {\n",
              "        text-align: right;\n",
              "    }\n",
              "</style>\n",
              "<table border=\"1\" class=\"dataframe\">\n",
              "  <thead>\n",
              "    <tr style=\"text-align: right;\">\n",
              "      <th></th>\n",
              "      <th>app</th>\n",
              "      <th>category</th>\n",
              "      <th>rating</th>\n",
              "      <th>reviews</th>\n",
              "      <th>size</th>\n",
              "      <th>installs</th>\n",
              "      <th>type</th>\n",
              "      <th>price</th>\n",
              "      <th>content_rating</th>\n",
              "      <th>genres</th>\n",
              "      <th>last_updated</th>\n",
              "      <th>current_ver</th>\n",
              "      <th>android_ver</th>\n",
              "    </tr>\n",
              "  </thead>\n",
              "  <tbody>\n",
              "    <tr>\n",
              "      <th>10472</th>\n",
              "      <td>Life Made WI-Fi Touchscreen Photo Frame</td>\n",
              "      <td>1.9</td>\n",
              "      <td>19.0</td>\n",
              "      <td>3.0M</td>\n",
              "      <td>1,000+</td>\n",
              "      <td>Free</td>\n",
              "      <td>0</td>\n",
              "      <td>Everyone</td>\n",
              "      <td>Everyone</td>\n",
              "      <td>February 11, 2018</td>\n",
              "      <td>1.0.19</td>\n",
              "      <td>4.0 and up</td>\n",
              "      <td>NaN</td>\n",
              "    </tr>\n",
              "  </tbody>\n",
              "</table>\n",
              "</div>\n",
              "      <button class=\"colab-df-convert\" onclick=\"convertToInteractive('df-d100b59b-4a90-4907-b209-195612655780')\"\n",
              "              title=\"Convert this dataframe to an interactive table.\"\n",
              "              style=\"display:none;\">\n",
              "        \n",
              "  <svg xmlns=\"http://www.w3.org/2000/svg\" height=\"24px\"viewBox=\"0 0 24 24\"\n",
              "       width=\"24px\">\n",
              "    <path d=\"M0 0h24v24H0V0z\" fill=\"none\"/>\n",
              "    <path d=\"M18.56 5.44l.94 2.06.94-2.06 2.06-.94-2.06-.94-.94-2.06-.94 2.06-2.06.94zm-11 1L8.5 8.5l.94-2.06 2.06-.94-2.06-.94L8.5 2.5l-.94 2.06-2.06.94zm10 10l.94 2.06.94-2.06 2.06-.94-2.06-.94-.94-2.06-.94 2.06-2.06.94z\"/><path d=\"M17.41 7.96l-1.37-1.37c-.4-.4-.92-.59-1.43-.59-.52 0-1.04.2-1.43.59L10.3 9.45l-7.72 7.72c-.78.78-.78 2.05 0 2.83L4 21.41c.39.39.9.59 1.41.59.51 0 1.02-.2 1.41-.59l7.78-7.78 2.81-2.81c.8-.78.8-2.07 0-2.86zM5.41 20L4 18.59l7.72-7.72 1.47 1.35L5.41 20z\"/>\n",
              "  </svg>\n",
              "      </button>\n",
              "      \n",
              "  <style>\n",
              "    .colab-df-container {\n",
              "      display:flex;\n",
              "      flex-wrap:wrap;\n",
              "      gap: 12px;\n",
              "    }\n",
              "\n",
              "    .colab-df-convert {\n",
              "      background-color: #E8F0FE;\n",
              "      border: none;\n",
              "      border-radius: 50%;\n",
              "      cursor: pointer;\n",
              "      display: none;\n",
              "      fill: #1967D2;\n",
              "      height: 32px;\n",
              "      padding: 0 0 0 0;\n",
              "      width: 32px;\n",
              "    }\n",
              "\n",
              "    .colab-df-convert:hover {\n",
              "      background-color: #E2EBFA;\n",
              "      box-shadow: 0px 1px 2px rgba(60, 64, 67, 0.3), 0px 1px 3px 1px rgba(60, 64, 67, 0.15);\n",
              "      fill: #174EA6;\n",
              "    }\n",
              "\n",
              "    [theme=dark] .colab-df-convert {\n",
              "      background-color: #3B4455;\n",
              "      fill: #D2E3FC;\n",
              "    }\n",
              "\n",
              "    [theme=dark] .colab-df-convert:hover {\n",
              "      background-color: #434B5C;\n",
              "      box-shadow: 0px 1px 3px 1px rgba(0, 0, 0, 0.15);\n",
              "      filter: drop-shadow(0px 1px 2px rgba(0, 0, 0, 0.3));\n",
              "      fill: #FFFFFF;\n",
              "    }\n",
              "  </style>\n",
              "\n",
              "      <script>\n",
              "        const buttonEl =\n",
              "          document.querySelector('#df-d100b59b-4a90-4907-b209-195612655780 button.colab-df-convert');\n",
              "        buttonEl.style.display =\n",
              "          google.colab.kernel.accessAllowed ? 'block' : 'none';\n",
              "\n",
              "        async function convertToInteractive(key) {\n",
              "          const element = document.querySelector('#df-d100b59b-4a90-4907-b209-195612655780');\n",
              "          const dataTable =\n",
              "            await google.colab.kernel.invokeFunction('convertToInteractive',\n",
              "                                                     [key], {});\n",
              "          if (!dataTable) return;\n",
              "\n",
              "          const docLinkHtml = 'Like what you see? Visit the ' +\n",
              "            '<a target=\"_blank\" href=https://colab.research.google.com/notebooks/data_table.ipynb>data table notebook</a>'\n",
              "            + ' to learn more about interactive tables.';\n",
              "          element.innerHTML = '';\n",
              "          dataTable['output_type'] = 'display_data';\n",
              "          await google.colab.output.renderOutput(dataTable, element);\n",
              "          const docLink = document.createElement('div');\n",
              "          docLink.innerHTML = docLinkHtml;\n",
              "          element.appendChild(docLink);\n",
              "        }\n",
              "      </script>\n",
              "    </div>\n",
              "  </div>\n",
              "  "
            ],
            "text/plain": [
              "                                           app category  ...  current_ver android_ver\n",
              "10472  Life Made WI-Fi Touchscreen Photo Frame      1.9  ...   4.0 and up         NaN\n",
              "\n",
              "[1 rows x 13 columns]"
            ]
          },
          "metadata": {},
          "execution_count": 68
        }
      ]
    },
    {
      "cell_type": "markdown",
      "source": [
        "So, Here we got the index position for that particular wrong entry.\n",
        "So, lets remove it."
      ],
      "metadata": {
        "id": "PWyZyl_SmLiA"
      }
    },
    {
      "cell_type": "code",
      "source": [
        "# remove the row with the specified index; axis 0 implies along the rows; axis 1 along the columns\n",
        "data=data.drop([10472],axis=0)"
      ],
      "metadata": {
        "id": "dDE0yTOUl_gA"
      },
      "execution_count": 69,
      "outputs": []
    },
    {
      "cell_type": "code",
      "source": [
        "data.shape"
      ],
      "metadata": {
        "colab": {
          "base_uri": "https://localhost:8080/"
        },
        "id": "pXJJ9FROmWPb",
        "outputId": "6d0af453-e50e-4fd3-be92-8e0ad467c9d3"
      },
      "execution_count": 70,
      "outputs": [
        {
          "output_type": "execute_result",
          "data": {
            "text/plain": [
              "(9659, 13)"
            ]
          },
          "metadata": {},
          "execution_count": 70
        }
      ]
    },
    {
      "cell_type": "markdown",
      "source": [
        "## Rating Column:\n",
        "Check for valid rating values."
      ],
      "metadata": {
        "id": "QsxfftDEm2W_"
      }
    },
    {
      "cell_type": "code",
      "source": [
        "data['rating'].describe() # statistical summary of the rating column."
      ],
      "metadata": {
        "colab": {
          "base_uri": "https://localhost:8080/"
        },
        "id": "RtcptnTAmv5D",
        "outputId": "d2a50e2a-c164-4608-bff4-16cfb8bb9a32"
      },
      "execution_count": 71,
      "outputs": [
        {
          "output_type": "execute_result",
          "data": {
            "text/plain": [
              "count    9659.000000\n",
              "mean        4.174775\n",
              "std         0.536124\n",
              "min         1.000000\n",
              "25%         4.000000\n",
              "50%         4.300000\n",
              "75%         4.500000\n",
              "max         5.000000\n",
              "Name: rating, dtype: float64"
            ]
          },
          "metadata": {},
          "execution_count": 71
        }
      ]
    },
    {
      "cell_type": "markdown",
      "source": [
        "As we have seen descriptive summery of rating column so it has well normally distributed data."
      ],
      "metadata": {
        "id": "hcLLHU7o-w_l"
      }
    },
    {
      "cell_type": "markdown",
      "source": [
        "### **Review Column:**\n",
        "Check for any non numeric values if any replace it and convert it to a numeric column"
      ],
      "metadata": {
        "id": "36EDEOT8AYe-"
      }
    },
    {
      "cell_type": "code",
      "source": [
        "# displays frequency measures for a non-numerical column\n",
        "data.reviews.describe()    # The datatype for the reviews column is string "
      ],
      "metadata": {
        "colab": {
          "base_uri": "https://localhost:8080/"
        },
        "id": "fjwzuXAg5SJO",
        "outputId": "081e6f61-5494-42b8-ea35-c74d0f35aea9"
      },
      "execution_count": 72,
      "outputs": [
        {
          "output_type": "execute_result",
          "data": {
            "text/plain": [
              "count     9659\n",
              "unique    5330\n",
              "top          0\n",
              "freq       593\n",
              "Name: reviews, dtype: object"
            ]
          },
          "metadata": {},
          "execution_count": 72
        }
      ]
    },
    {
      "cell_type": "code",
      "source": [
        "# check for any non numeric value \n",
        "data.reviews.str.isnumeric().sum() "
      ],
      "metadata": {
        "colab": {
          "base_uri": "https://localhost:8080/"
        },
        "id": "8vluU8cXAlrJ",
        "outputId": "b3c2f788-193c-4590-fa42-fd0eabb8cad6"
      },
      "execution_count": 73,
      "outputs": [
        {
          "output_type": "execute_result",
          "data": {
            "text/plain": [
              "9659"
            ]
          },
          "metadata": {},
          "execution_count": 73
        }
      ]
    },
    {
      "cell_type": "code",
      "source": [
        "# convert the 'Review' column to numeric\n",
        "data.reviews=pd.to_numeric(data.reviews) "
      ],
      "metadata": {
        "id": "uhBguDPIAxiX"
      },
      "execution_count": 74,
      "outputs": []
    },
    {
      "cell_type": "code",
      "source": [
        "# statistical summary of the specified numerical variable\n",
        "data.reviews.describe()"
      ],
      "metadata": {
        "colab": {
          "base_uri": "https://localhost:8080/"
        },
        "id": "cXnmyZYpTW-5",
        "outputId": "19e489a9-be99-47d0-f0b3-0628d0ae104f"
      },
      "execution_count": 75,
      "outputs": [
        {
          "output_type": "execute_result",
          "data": {
            "text/plain": [
              "count    9.659000e+03\n",
              "mean     2.165926e+05\n",
              "std      1.831320e+06\n",
              "min      0.000000e+00\n",
              "25%      2.500000e+01\n",
              "50%      9.670000e+02\n",
              "75%      2.940100e+04\n",
              "max      7.815831e+07\n",
              "Name: reviews, dtype: float64"
            ]
          },
          "metadata": {},
          "execution_count": 75
        }
      ]
    },
    {
      "cell_type": "markdown",
      "source": [
        "So, Here we can observe that the data type has changed to float. And hence, we are able to see complete statistical summary of review column. "
      ],
      "metadata": {
        "id": "Rdv7j2r-WKe-"
      }
    },
    {
      "cell_type": "markdown",
      "source": [
        "### **Size Column:**"
      ],
      "metadata": {
        "id": "NN_I0qEgWb5e"
      }
    },
    {
      "cell_type": "markdown",
      "source": [
        "In the 'Size' column we have the values as '20M' and '10K' which represents the size of app in MB and KB respectively. So replace 'M' and 'K' with their equivalent numeric values in bytes."
      ],
      "metadata": {
        "id": "n4h9Z_wrWb0a"
      }
    },
    {
      "cell_type": "code",
      "source": [
        "data['size']"
      ],
      "metadata": {
        "colab": {
          "base_uri": "https://localhost:8080/"
        },
        "id": "yN-PJAHpb5uo",
        "outputId": "2221d899-896b-4c4f-e20e-cc025c8d8ec3"
      },
      "execution_count": 76,
      "outputs": [
        {
          "output_type": "execute_result",
          "data": {
            "text/plain": [
              "0                       19M\n",
              "1                       14M\n",
              "2                      8.7M\n",
              "3                       25M\n",
              "4                      2.8M\n",
              "                ...        \n",
              "10836                   53M\n",
              "10837                  3.6M\n",
              "10838                  9.5M\n",
              "10839    Varies with device\n",
              "10840                   19M\n",
              "Name: size, Length: 9659, dtype: object"
            ]
          },
          "metadata": {},
          "execution_count": 76
        }
      ]
    },
    {
      "cell_type": "code",
      "source": [
        "#get the count/frequency of all the unique values of the specified column\n",
        "data['size'].value_counts()"
      ],
      "metadata": {
        "colab": {
          "base_uri": "https://localhost:8080/"
        },
        "id": "D8sF4wSsWGYZ",
        "outputId": "5a5bb284-cd21-458f-c3a1-2566b4ff59f4"
      },
      "execution_count": 77,
      "outputs": [
        {
          "output_type": "execute_result",
          "data": {
            "text/plain": [
              "Varies with device    1227\n",
              "11M                    182\n",
              "12M                    181\n",
              "14M                    177\n",
              "13M                    177\n",
              "                      ... \n",
              "714k                     1\n",
              "429k                     1\n",
              "728k                     1\n",
              "34k                      1\n",
              "203k                     1\n",
              "Name: size, Length: 461, dtype: int64"
            ]
          },
          "metadata": {},
          "execution_count": 77
        }
      ]
    },
    {
      "cell_type": "code",
      "source": [
        "data['size']"
      ],
      "metadata": {
        "colab": {
          "base_uri": "https://localhost:8080/"
        },
        "id": "5vdyn8p2Wz5W",
        "outputId": "a754ba28-969e-46eb-a320-5d575600ca4f"
      },
      "execution_count": 78,
      "outputs": [
        {
          "output_type": "execute_result",
          "data": {
            "text/plain": [
              "0                       19M\n",
              "1                       14M\n",
              "2                      8.7M\n",
              "3                       25M\n",
              "4                      2.8M\n",
              "                ...        \n",
              "10836                   53M\n",
              "10837                  3.6M\n",
              "10838                  9.5M\n",
              "10839    Varies with device\n",
              "10840                   19M\n",
              "Name: size, Length: 9659, dtype: object"
            ]
          },
          "metadata": {},
          "execution_count": 78
        }
      ]
    },
    {
      "cell_type": "code",
      "source": [
        "# replace all the 'Varies with device' with 0\n",
        "data['size']= data['size'].apply(lambda x: x.replace('Varies with device','0') if 'Varies with device' in x else x)\n",
        "\n",
        "# replace all the 'k' representing thousand\n",
        "data['size'] = data['size'].apply(lambda x: x.replace('k','') if 'k' in x else x)\n",
        "\n",
        "# replace all the 'M' representing Million with 3 zeroes\n",
        "data['size'] = data['size'].apply(lambda x: float(x.replace('M',''))*1024 if 'M' in x else x)"
      ],
      "metadata": {
        "id": "6863l_OjaXkP"
      },
      "execution_count": 79,
      "outputs": []
    },
    {
      "cell_type": "code",
      "source": [
        "# convert to float datatype\n",
        "data['size'] = data['size'].apply(lambda x: float(x))"
      ],
      "metadata": {
        "id": "sIa0ECdSapxs"
      },
      "execution_count": 80,
      "outputs": []
    },
    {
      "cell_type": "code",
      "source": [
        "data['size']"
      ],
      "metadata": {
        "colab": {
          "base_uri": "https://localhost:8080/"
        },
        "id": "b2ELc9Dgcb-1",
        "outputId": "c0717d84-4f7b-4d0e-ee6d-4fce61709981"
      },
      "execution_count": 83,
      "outputs": [
        {
          "output_type": "execute_result",
          "data": {
            "text/plain": [
              "0        19456.0\n",
              "1        14336.0\n",
              "2         8908.8\n",
              "3        25600.0\n",
              "4         2867.2\n",
              "          ...   \n",
              "10836    54272.0\n",
              "10837     3686.4\n",
              "10838     9728.0\n",
              "10839        0.0\n",
              "10840    19456.0\n",
              "Name: size, Length: 9659, dtype: float64"
            ]
          },
          "metadata": {},
          "execution_count": 83
        }
      ]
    },
    {
      "cell_type": "code",
      "source": [
        "# statistical summary of the specified numerical variable\n",
        "data['size'].describe()"
      ],
      "metadata": {
        "colab": {
          "base_uri": "https://localhost:8080/"
        },
        "id": "EMe3jov5chFe",
        "outputId": "8e52eef8-b242-4f63-e7e0-d2b42566f486"
      },
      "execution_count": 85,
      "outputs": [
        {
          "output_type": "execute_result",
          "data": {
            "text/plain": [
              "count      9659.000000\n",
              "mean      18231.394834\n",
              "std       22011.410257\n",
              "min           0.000000\n",
              "25%        2969.600000\n",
              "50%        9318.400000\n",
              "75%       25600.000000\n",
              "max      102400.000000\n",
              "Name: size, dtype: float64"
            ]
          },
          "metadata": {},
          "execution_count": 85
        }
      ]
    },
    {
      "cell_type": "code",
      "source": [
        "data=data.rename(columns={'size':'size_in_KB'})   # rename the Size column to Size_in_KB "
      ],
      "metadata": {
        "id": "mwI9F8XZc6sz"
      },
      "execution_count": 86,
      "outputs": []
    },
    {
      "cell_type": "markdown",
      "source": [
        "### **Installs column:**"
      ],
      "metadata": {
        "id": "h6KrDKxAdHHq"
      }
    },
    {
      "cell_type": "markdown",
      "source": [
        "The Installs column shows the number of installations for an app. The values consists of '+' and ',' characters. So remove '+' and ',' present in Installs column and convert it to numeric."
      ],
      "metadata": {
        "id": "PFA6wqeBkLps"
      }
    },
    {
      "cell_type": "code",
      "source": [
        "data.installs"
      ],
      "metadata": {
        "colab": {
          "base_uri": "https://localhost:8080/"
        },
        "id": "hHjX7V60dEY2",
        "outputId": "cf36c95a-652d-4758-e721-2cde981db281"
      },
      "execution_count": 87,
      "outputs": [
        {
          "output_type": "execute_result",
          "data": {
            "text/plain": [
              "0            10,000+\n",
              "1           500,000+\n",
              "2         5,000,000+\n",
              "3        50,000,000+\n",
              "4           100,000+\n",
              "            ...     \n",
              "10836         5,000+\n",
              "10837           100+\n",
              "10838         1,000+\n",
              "10839         1,000+\n",
              "10840    10,000,000+\n",
              "Name: installs, Length: 9659, dtype: object"
            ]
          },
          "metadata": {},
          "execution_count": 87
        }
      ]
    },
    {
      "cell_type": "code",
      "source": [
        "# values are given as, for example, '1,000+'. Removes the '+' sign from the end of the string\n",
        "data.installs=data.installs.apply(lambda x: x.strip('+'))\n",
        "\n",
        "# numbers have commas in them, for eg., 100,000. Removes all the commas from the strings.\n",
        "data.installs=data.installs.apply(lambda x: x.replace(',',''))\n",
        "\n",
        "# get the count/frequency of all the unique values of the specified column\n",
        "data.installs.value_counts()"
      ],
      "metadata": {
        "colab": {
          "base_uri": "https://localhost:8080/"
        },
        "id": "kzg1fJYjxnSO",
        "outputId": "7a096ec3-9834-4114-e9fa-495fa0f730af"
      },
      "execution_count": 88,
      "outputs": [
        {
          "output_type": "execute_result",
          "data": {
            "text/plain": [
              "1000000       1417\n",
              "100000        1112\n",
              "10000         1031\n",
              "10000000       937\n",
              "1000           888\n",
              "100            710\n",
              "5000000        607\n",
              "500000         505\n",
              "50000          469\n",
              "5000           468\n",
              "10             385\n",
              "500            328\n",
              "50             204\n",
              "50000000       202\n",
              "100000000      188\n",
              "5               82\n",
              "1               67\n",
              "500000000       24\n",
              "1000000000      20\n",
              "0               15\n",
              "Name: installs, dtype: int64"
            ]
          },
          "metadata": {},
          "execution_count": 88
        }
      ]
    },
    {
      "cell_type": "code",
      "source": [
        "# convert to numeric datatype\n",
        "data.installs=pd.to_numeric(data.installs)"
      ],
      "metadata": {
        "id": "S1oLRG8RxxWu"
      },
      "execution_count": 89,
      "outputs": []
    },
    {
      "cell_type": "code",
      "source": [
        "data['installs'].describe()"
      ],
      "metadata": {
        "colab": {
          "base_uri": "https://localhost:8080/"
        },
        "id": "VLYGiwK5x5aC",
        "outputId": "0b951bc1-481e-4493-9aa2-8301cbe87dbe"
      },
      "execution_count": 90,
      "outputs": [
        {
          "output_type": "execute_result",
          "data": {
            "text/plain": [
              "count    9.659000e+03\n",
              "mean     7.777507e+06\n",
              "std      5.375828e+07\n",
              "min      0.000000e+00\n",
              "25%      1.000000e+03\n",
              "50%      1.000000e+05\n",
              "75%      1.000000e+06\n",
              "max      1.000000e+09\n",
              "Name: installs, dtype: float64"
            ]
          },
          "metadata": {},
          "execution_count": 90
        }
      ]
    },
    {
      "cell_type": "markdown",
      "source": [
        ""
      ],
      "metadata": {
        "id": "n_YBcVGyyOiW"
      }
    },
    {
      "cell_type": "code",
      "source": [
        ""
      ],
      "metadata": {
        "id": "d6LbJ7H5x9uK"
      },
      "execution_count": null,
      "outputs": []
    }
  ]
}